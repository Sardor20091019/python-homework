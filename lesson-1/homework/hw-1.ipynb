import math

side = 6
perimeter = 4 * side
area = side * side
print("The perimeter of the square is", perimeter)
print("The area of the square is", area)

diameter = 10
circumference = math.pi * diameter
print("The circumference of the circle is", circumference)

a = 7
b = 13
mean = (a + b) / 2
print("The mean of", a, "and", b, "is", mean)

sum_ab = a + b
product_ab = a * b
square_a = a * a
square_b = b * b
print("The sum of", a, "and", b, "is", sum_ab)
print("The product of", a, "and", b, "is", product_ab)
print("The square of", a, "is", square_a)
print("The square of", b, "is", square_b)
